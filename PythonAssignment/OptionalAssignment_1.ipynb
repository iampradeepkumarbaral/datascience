{
 "cells": [
  {
   "cell_type": "code",
   "execution_count": 147,
   "id": "6e5ffe37",
   "metadata": {},
   "outputs": [
    {
     "name": "stdout",
     "output_type": "stream",
     "text": [
      "Enter a number:5\n",
      "5 x 1 = 5\n",
      "5 x 2 = 10\n",
      "5 x 3 = 15\n",
      "5 x 4 = 20\n",
      "5 x 5 = 25\n",
      "5 x 6 = 30\n",
      "5 x 7 = 35\n",
      "5 x 8 = 40\n",
      "5 x 9 = 45\n",
      "5 x 10 = 50\n"
     ]
    }
   ],
   "source": [
    "#1.)Write a function that inputs a number and prints the multiplication table of that number\n",
    "\n",
    "\n",
    "def multiplication(value,count):\n",
    "    print(value, 'x', count, '=', value*count)\n",
    "    \n",
    "    if count!=10:\n",
    "        multiplication(value,count+1)#calling funtion using recursion\n",
    "\n",
    "def checkIsIntValue():\n",
    "    choice = \"\"\n",
    "    while choice.isdigit()==False :\n",
    "        choice = input(\"Enter a number:\")\n",
    "        \n",
    "        \n",
    "    if choice.isdigit()==False:\n",
    "        print(\"Wrongly entered: \")\n",
    "    else:\n",
    "        return int(choice)\n",
    "        \n",
    "        \n",
    "multiplication(checkIsIntValue(),1)"
   ]
  },
  {
   "cell_type": "code",
   "execution_count": 148,
   "id": "d86df1c4",
   "metadata": {},
   "outputs": [
    {
     "name": "stdout",
     "output_type": "stream",
     "text": [
      "Twin Prime Number: \n",
      "\n",
      "Enter a number:1000\n",
      " 3 and 5\n",
      " 5 and 7\n",
      " 11 and 13\n",
      " 17 and 19\n",
      " 29 and 31\n",
      " 41 and 43\n",
      " 59 and 61\n",
      " 71 and 73\n",
      " 101 and 103\n",
      " 107 and 109\n",
      " 137 and 139\n",
      " 149 and 151\n",
      " 179 and 181\n",
      " 191 and 193\n",
      " 197 and 199\n",
      " 227 and 229\n",
      " 239 and 241\n",
      " 269 and 271\n",
      " 281 and 283\n",
      " 311 and 313\n",
      " 347 and 349\n",
      " 419 and 421\n",
      " 431 and 433\n",
      " 461 and 463\n",
      " 521 and 523\n",
      " 569 and 571\n",
      " 599 and 601\n",
      " 617 and 619\n",
      " 641 and 643\n",
      " 659 and 661\n",
      " 809 and 811\n",
      " 821 and 823\n",
      " 827 and 829\n",
      " 857 and 859\n",
      " 881 and 883\n"
     ]
    }
   ],
   "source": [
    "#2.) Write a program to print twin primes less than 1000. If two consecutive odd numbers are both prime then they are known as twin primes\n",
    "\n",
    "def checkPrime(maxNum):\n",
    "    for i in range (2, maxNum):\n",
    "        #Check given number is prime or not\n",
    "        if maxNum % i == 0:\n",
    "            return False\n",
    "    return True\n",
    "\n",
    "def twinPrime(maxNum):\n",
    "    for j in range(2, maxNum):\n",
    "        #list of twin primes\n",
    "        val = j + 2\n",
    "        if (checkPrime(j) and checkPrime(val)):\n",
    "            print(f\" {j} and {val}\")#new pattern learn\n",
    "\n",
    "print(\"Twin Prime Number: \\n\")\n",
    "twinPrime(checkIsIntValue())"
   ]
  },
  {
   "cell_type": "code",
   "execution_count": 149,
   "id": "a1c3486f",
   "metadata": {},
   "outputs": [
    {
     "name": "stdout",
     "output_type": "stream",
     "text": [
      "Enter a number:56\n"
     ]
    },
    {
     "data": {
      "text/plain": [
       "[2, 2, 2, 7]"
      ]
     },
     "execution_count": 149,
     "metadata": {},
     "output_type": "execute_result"
    }
   ],
   "source": [
    "#3.)Write a program to find out the prime factors of a number. Example: prime factors of 56 - 2, 2, 2, 7\n",
    "\n",
    "import math\n",
    "\n",
    "lst = []\n",
    "\n",
    "def primeFactors(value):\n",
    "    while value % 2 == 0:\n",
    "        lst.append(2)\n",
    "        value = value/2\n",
    "        \n",
    "   \n",
    "    for i in range(3, int(math.sqrt(value))+1, 2):\n",
    "        while value%i == 0:\n",
    "            lst.append(i)\n",
    "            value = value/i\n",
    "\n",
    "   \n",
    "    if value > 2:\n",
    "        value = int(value)\n",
    "        lst.append(value)\n",
    "    return lst\n",
    "        \n",
    "primeFactors(checkIsIntValue())"
   ]
  },
  {
   "cell_type": "code",
   "execution_count": 156,
   "id": "26ccfb64",
   "metadata": {},
   "outputs": [
    {
     "name": "stdout",
     "output_type": "stream",
     "text": [
      "Permutation:  32760\n",
      "Combination:  1365\n"
     ]
    }
   ],
   "source": [
    "#4.)Write a program to implement these formulae of permutations and combinations.\n",
    "def factorial(num):\n",
    "    \n",
    "    #factorial of a number\n",
    "    if num == 1:\n",
    "        return num\n",
    "    return num * factorial(num-1)\n",
    "\n",
    "def permutation(n, r):\n",
    "    #permutation of a number\n",
    "    return int(factorial(n) / factorial(n-r))\n",
    "\n",
    "def combination(n, r):\n",
    "    #combinations of a number\n",
    "    return int(factorial(n) / (factorial(r) * factorial(n-r)))\n",
    "\n",
    "print(\"Permutation: \", permutation(15,4))\n",
    "print(\"Combination: \", combination(15,4))"
   ]
  },
  {
   "cell_type": "code",
   "execution_count": 154,
   "id": "a655663f",
   "metadata": {},
   "outputs": [
    {
     "name": "stdout",
     "output_type": "stream",
     "text": [
      "Enter a number:11\n",
      "1011"
     ]
    }
   ],
   "source": [
    "#5.)Write a function that converts a decimal number to binary number\n",
    "def decToBin(value):\n",
    "    \n",
    "    # binary number of a given decimal number using recursion\n",
    "    if value > 1:\n",
    "        decToBin(value//2)\n",
    "    print(value % 2, end=\"\")\n",
    "        \n",
    "decToBin(checkIsIntValue())"
   ]
  },
  {
   "cell_type": "code",
   "execution_count": 28,
   "id": "0065521a",
   "metadata": {},
   "outputs": [
    {
     "name": "stdout",
     "output_type": "stream",
     "text": [
      "Enter a number: 1634\n",
      "Sum of the digit 1634\n",
      "1634 Is an ArmStrong Number\n"
     ]
    }
   ],
   "source": [
    "#6.)funtion of cubesum that accepts an integer and return the sum of the cubes\n",
    "#   individual digits of that number. use this funtion printArmstrong() and is ArmStrong \n",
    "# to print Armstrong\n",
    "\n",
    "def cubeOfSum(value):\n",
    "    orderlength = len(str(num))\n",
    "    sumOfDigit = 0\n",
    "    while value > 0:\n",
    "        digit = value % 10\n",
    "        sumOfDigit += digit ** orderlength #Sum of individual digit and cube\n",
    "        value //= 10\n",
    "\n",
    "   \n",
    "   # print(\"The Cube of a Given Number {0}  = {1}\".format(value, cube))\n",
    "    return int(sumOfDigit)\n",
    "\n",
    "\n",
    "\n",
    "cubeOfNumber = checkIsIntValue()\n",
    "valueOfSum = cubeOfSum(cubeOfNumber)\n",
    "\n",
    "print(\"Sum of the digit\",valueOfSum)\n",
    "#Display the number is ArmStrong Number\n",
    "\n",
    "if cubeOfNumber == valueOfSum:\n",
    "    print(cubeOfNumber,\"Is an ArmStrong Number\")\n",
    "else:\n",
    "    print(cubeOfNumber,\"Is Not an ArmStrong Number\")\n",
    "    \n",
    "    \n",
    "            \n"
   ]
  },
  {
   "cell_type": "code",
   "execution_count": 32,
   "id": "f8c6953f",
   "metadata": {},
   "outputs": [
    {
     "name": "stdout",
     "output_type": "stream",
     "text": [
      "Enter a number: dsjkfbhksj\n",
      "Wrongly entered: \n",
      "Enter a number: 45\n",
      "Product of the digit of the number =  20\n"
     ]
    }
   ],
   "source": [
    "#7.)function prodDigits() that input a number and returns the product of digits of the number\n",
    "def prodDigit(value):\n",
    "    product = 1\n",
    "    while (value != 0):\n",
    "        product = product * (value % 10)\n",
    "        value = value // 10\n",
    " \n",
    "    return product\n",
    "\n",
    "print(\"Product of the digit of the number = \",prodDigit(checkIsIntValue()))\n",
    "\n",
    "\n",
    "    "
   ]
  },
  {
   "cell_type": "code",
   "execution_count": 88,
   "id": "9496c3d0",
   "metadata": {},
   "outputs": [
    {
     "name": "stdout",
     "output_type": "stream",
     "text": [
      "Enter a number: 11\n",
      "For 11 MDR is 1 and M Persistance is 1\n"
     ]
    }
   ],
   "source": [
    "#8.)Using the function prodDigits() of previous exercise write Funtions MDR() and MPersistence() that input a number and return its multiplication digital root and multiplicative persistence respectively\n",
    "\n",
    "def prodDigit(value):\n",
    "    product = 1\n",
    "    while (value != 0):\n",
    "        product = product * (value % 10)\n",
    "        value = value // 10\n",
    " \n",
    "    return product\n",
    "\n",
    "\n",
    "def MDR(value):\n",
    "   \n",
    "    inputValue = str(value)\n",
    "    mPersistence = 0\n",
    "    while len(inputValue) > 1:\n",
    "        inputValue = str(prodDigit(int(inputValue)))\n",
    "        mPersistence += 1\n",
    "    return int(inputValue), mPersistence\n",
    "\n",
    "inputFrmUser = checkIsIntValue()\n",
    "mdr, mper = MDR(inputFrmUser)\n",
    "print(\"For {0} MDR is {1} and M Persistance is {2}\".format(inputFrmUser, mdr, mper))\n",
    "\n",
    "\n",
    "    \n"
   ]
  },
  {
   "cell_type": "code",
   "execution_count": 89,
   "id": "fb056e05",
   "metadata": {},
   "outputs": [
    {
     "name": "stdout",
     "output_type": "stream",
     "text": [
      "Enter a number: 100\n",
      "The sum of proper divisors of a number =  117\n"
     ]
    }
   ],
   "source": [
    "#9.)A funtion sumPdivisors() that finds the sum of proper divisors of a number\n",
    "#ex.36 are 1,2,3,4,9,18\n",
    "\n",
    "\n",
    "def sumOfdivisors(number):\n",
    "    divisors = [1]\n",
    "    for i in range(2, number):\n",
    "        if (number % i)==0:\n",
    "            divisors.append(i)\n",
    "    return sum(divisors)\n",
    "\n",
    "def sum(listDiv):\n",
    "    sum = 0\n",
    "    for i in listDiv:\n",
    "        sum+=i\n",
    "    return sum\n",
    "            \n",
    "            \n",
    "print(\"The sum of proper divisors of a number = \",sumOfdivisors(checkIsIntValue()))\n",
    "\n"
   ]
  },
  {
   "cell_type": "code",
   "execution_count": 90,
   "id": "4e74b4ea",
   "metadata": {},
   "outputs": [
    {
     "name": "stdout",
     "output_type": "stream",
     "text": [
      "Enter a Range: 1000\n",
      "The perfect numbers in a given range:\n",
      "6 28 496 "
     ]
    }
   ],
   "source": [
    "#10.)A number is called perfect if the sum of proper divisors of that number is equal to the number. \n",
    "#For example 28 is perfect number, since 1+2+4+7+14=28. \n",
    "#Write a program to print all the perfect numbers in a given range\n",
    "\n",
    "def perfectNums(upper):\n",
    "    if upper< 1:\n",
    "        return False\n",
    "    perfect_sum = 0\n",
    "    for i in range(1,upper):\n",
    "        if upper%i==0:\n",
    "            perfect_sum += i\n",
    "\n",
    "    return perfect_sum == upper\n",
    "\n",
    "def checkIsIntValue():\n",
    "    choice = \"\"\n",
    "    while choice.isdigit()==False :\n",
    "        choice = input(\"Enter a Range: \")\n",
    "        \n",
    "        if choice.isdigit()==False:\n",
    "            print(\"Wrongly Range Number Entered: \")\n",
    "        else:\n",
    "            print(\"The perfect numbers in a given range:\")\n",
    "            return int(choice)  \n",
    "\n",
    "valueInt = checkIsIntValue()\n",
    "for i in range(0, valueInt):\n",
    "    if perfectNums(i):\n",
    "        print(i, end=' ')"
   ]
  },
  {
   "cell_type": "code",
   "execution_count": 100,
   "id": "3a5fa2b4",
   "metadata": {},
   "outputs": [
    {
     "name": "stdout",
     "output_type": "stream",
     "text": [
      "Enter a Range: 1000\n",
      "The Pairs of amicable numbers in a range :\n",
      "220 284\n"
     ]
    }
   ],
   "source": [
    "#11.) Two different numbers are called amicable numbers if the sum of the proper divisors of each is equal to the other number.\n",
    "#For example 220 and 284 are amicable numbers.\n",
    "def amicableNum(value1, value2):\n",
    "    # amicable numbers in given range\n",
    "    for i in range(value1, value2+1):\n",
    "        for j in range(i, value2+1):\n",
    "            if i != j:\n",
    "                if amicablePair(i, j):\n",
    "                    print(i, j)\n",
    "        \n",
    "def amicablePair(first, second):\n",
    "    #given pair is amicable or not\n",
    "    return (sumOfdivisors(first) == second) and (sumOfdivisors(second) == first)\n",
    "\n",
    "\n",
    "\n",
    "def checkIsIntValue():\n",
    "    choice = \"\"\n",
    "    while choice.isdigit()==False :\n",
    "        choice = input(\"Enter a Range: \")\n",
    "        \n",
    "        if choice.isdigit()==False:\n",
    "            print(\"Wrongly Range Number Entered: \")\n",
    "        else:\n",
    "            print(\"The Pairs of amicable numbers in a range :\")\n",
    "            return int(choice)  \n",
    "\n",
    "amicableNum(1, checkIsIntValue())"
   ]
  },
  {
   "cell_type": "code",
   "execution_count": 132,
   "id": "a1735671",
   "metadata": {},
   "outputs": [
    {
     "name": "stdout",
     "output_type": "stream",
     "text": [
      "Enter the value in int to find the cube : 5\n",
      "press y to continue else press any other key :y\n",
      "Enter the value in int to find the cube : 3\n",
      "press y to continue else press any other key :y\n",
      "Enter the value in int to find the cube : 4\n",
      "press y to continue else press any other key :y\n",
      "Enter the value in int to find the cube : 8\n",
      "press y to continue else press any other key :2\n"
     ]
    },
    {
     "data": {
      "text/plain": [
       "[5, 3]"
      ]
     },
     "execution_count": 132,
     "metadata": {},
     "output_type": "execute_result"
    }
   ],
   "source": [
    "#12.) Write a program which can filter odd numbers in a list by using filter function\n",
    "def filterOddNumber(value):\n",
    "    #Filter odd numbers from given list\n",
    "    return list(filter(lambda i: (i%2 != 0), value))\n",
    "\n",
    "\n",
    "listArray = []\n",
    "choice='y'\n",
    "while choice=='y' or choice=='Y':\n",
    "    item=int(input('Enter the value in int to find the cube : '))\n",
    "    listArray.append(item)\n",
    "    choice = input('press y to continue else press any other key :')\n",
    "    \n",
    "\n",
    "\n",
    "filterOdd(listArray)"
   ]
  },
  {
   "cell_type": "code",
   "execution_count": 114,
   "id": "667966f9",
   "metadata": {},
   "outputs": [
    {
     "name": "stdout",
     "output_type": "stream",
     "text": [
      "Enter the value in int to find the cube : 2\n",
      "press y to continue else press any other key :y\n",
      "\n",
      "The list of cubes of given number\n",
      "Enter the value in int to find the cube : 5\n",
      "press y to continue else press any other key :y\n",
      "\n",
      "The list of cubes of given number\n",
      "Enter the value in int to find the cube : 4\n",
      "press y to continue else press any other key :h\n",
      "\n",
      "The list of cubes of given number\n"
     ]
    },
    {
     "data": {
      "text/plain": [
       "[8, 125, 64]"
      ]
     },
     "execution_count": 114,
     "metadata": {},
     "output_type": "execute_result"
    }
   ],
   "source": [
    "#13.)Write a program which can map() to make a list whose elements are cube of elements in a given list\n",
    "def cubeNumber(lst):\n",
    "    return list(map(lambda x: x**3, lst))\n",
    "\n",
    "\n",
    "\n",
    "\n",
    "listArray = []\n",
    "choice='y'\n",
    "while choice=='y' or choice=='Y':\n",
    "    item_price=int(input('Enter the value in int to find the cube : '))\n",
    "    listArray.append(item_price)\n",
    "    choice = input('press y to continue else press any other key :')\n",
    "   \n",
    "    \n",
    "cubeNumber(listArray)"
   ]
  },
  {
   "cell_type": "code",
   "execution_count": 133,
   "id": "ce1bfb25",
   "metadata": {},
   "outputs": [
    {
     "name": "stdout",
     "output_type": "stream",
     "text": [
      "Enter the value in int to find the cube : 4\n",
      "press y to continue else press any other key :y\n",
      "\n",
      "The list of cubes of given number\n",
      "Enter the value in int to find the cube : 7\n",
      "press y to continue else press any other key :y\n",
      "\n",
      "The list of cubes of given number\n",
      "Enter the value in int to find the cube : 8\n",
      "press y to continue else press any other key :y\n",
      "\n",
      "The list of cubes of given number\n",
      "Enter the value in int to find the cube : 2\n",
      "press y to continue else press any other key :y\n",
      "\n",
      "The list of cubes of given number\n",
      "Enter the value in int to find the cube : 7\n",
      "press y to continue else press any other key :h\n",
      "\n",
      "The list of cubes of given number\n"
     ]
    },
    {
     "data": {
      "text/plain": [
       "[64, 512, 8]"
      ]
     },
     "execution_count": 133,
     "metadata": {},
     "output_type": "execute_result"
    }
   ],
   "source": [
    "#14.)Write a program which can map() and filter() to make a list whose elements are cube of even number in a given list\n",
    "def cubeOfEven(lst):\n",
    "    return cubeNumber(list(filter(lambda i: (num%2) == 0, lst)))\n",
    "\n",
    "\n",
    "\n",
    "listArray = []\n",
    "choice='y'\n",
    "while choice=='y' or choice=='Y':\n",
    "    item_price=int(input('Enter the value in int to find the cube : '))\n",
    "    listArray.append(item_price)\n",
    "    choice = input('press y to continue else press any other key :')\n",
    "    if choice !='y' or choice !='Y':\n",
    "        print(\"\\nThe list of cubes of given number\")\n",
    "cubeOfEven(listArray)\n",
    "\n",
    "\n",
    "\n",
    "\n",
    "\n"
   ]
  },
  {
   "cell_type": "code",
   "execution_count": 134,
   "id": "7bd93bb5",
   "metadata": {},
   "outputs": [
    {
     "name": "stdout",
     "output_type": "stream",
     "text": [
      "End Of Optional Assignment\n"
     ]
    }
   ],
   "source": [
    "print(\"End Of Optional Assignment\")"
   ]
  },
  {
   "cell_type": "code",
   "execution_count": null,
   "id": "dd1e51cb",
   "metadata": {},
   "outputs": [],
   "source": []
  }
 ],
 "metadata": {
  "kernelspec": {
   "display_name": "Python 3",
   "language": "python",
   "name": "python3"
  },
  "language_info": {
   "codemirror_mode": {
    "name": "ipython",
    "version": 3
   },
   "file_extension": ".py",
   "mimetype": "text/x-python",
   "name": "python",
   "nbconvert_exporter": "python",
   "pygments_lexer": "ipython3",
   "version": "3.8.8"
  }
 },
 "nbformat": 4,
 "nbformat_minor": 5
}
